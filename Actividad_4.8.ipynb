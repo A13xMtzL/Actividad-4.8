{
 "cells": [
  {
   "cell_type": "markdown",
   "metadata": {},
   "source": [
    "## Actividad 4.8: Fila de espera con un servidor y ECOA\n",
    "\n",
    "### Integrantes del equipo:\n",
    "- Ricardo Núñez Alanis - A01703259\n",
    "- José Ángel Rico Mendieta - A01707404\n",
    "- Alejandro Martínez Luna - A01276785"
   ]
  },
  {
   "cell_type": "markdown",
   "metadata": {},
   "source": [
    "## Imports"
   ]
  },
  {
   "cell_type": "code",
   "execution_count": 74,
   "metadata": {},
   "outputs": [],
   "source": [
    "import datetime\n",
    "import numpy as np\n",
    "import pandas as pd"
   ]
  },
  {
   "cell_type": "markdown",
   "metadata": {},
   "source": [
    "## Funciones a utilizar"
   ]
  },
  {
   "cell_type": "code",
   "execution_count": 75,
   "metadata": {},
   "outputs": [],
   "source": [
    "def generate_client(\n",
    "  num_client, prev_arrival_time, prev_service_end, max_arrival_time, max_service_time\n",
    "):\n",
    "  \n",
    "  inter_arrival_time = np.random.randint(1, max_arrival_time+1)\n",
    "  arrival_time = prev_arrival_time + datetime.timedelta(minutes=inter_arrival_time)\n",
    "  \n",
    "  service_time = np.random.randint(1, max_service_time+1)\n",
    "  service_start = max(arrival_time, prev_service_end)\n",
    "  service_end = service_start + datetime.timedelta(minutes=service_time)\n",
    "\n",
    "  client_wait_time = max(0, (service_start - arrival_time).total_seconds() / 60)\n",
    "  atm_inactive_time = max(0, (arrival_time - prev_service_end).total_seconds() / 60)\n",
    "\n",
    "  return {\n",
    "    \"Cliente\": num_client,\n",
    "    \"Tiempo entre llegadas\": inter_arrival_time,\n",
    "    \"Hora llegada\": arrival_time.strftime(\"%I:%M %p\").lstrip(\"0\"),\n",
    "    \"Tiempo del trámite\": service_time,\n",
    "    \"Inicia servicio\": service_start.strftime(\"%I:%M %p\").lstrip(\"0\"),\n",
    "    \"Termina Servicio\": service_end.strftime(\"%I:%M %p\").lstrip(\"0\"),\n",
    "    \"Tiempo de espera cliente\": client_wait_time,\n",
    "    \"Tiempo inactividad del ATM\": atm_inactive_time,\n",
    "    \"service_end\": service_end,\n",
    "    \"arrival_time\": arrival_time,\n",
    "  }"
   ]
  },
  {
   "cell_type": "code",
   "execution_count": 76,
   "metadata": {},
   "outputs": [],
   "source": [
    "def generate_clients(\n",
    "  num_clients, max_arrival_time, max_service_time\n",
    "):\n",
    "  clients = []\n",
    "  t = datetime.datetime.now()\n",
    "  prev_arrival_time = t\n",
    "  prev_service_end = t\n",
    "\n",
    "  for i in range(1, num_clients + 1):\n",
    "    client = generate_client(i, prev_arrival_time, prev_service_end, max_arrival_time, max_service_time)\n",
    "    clients.append(client)\n",
    "    prev_arrival_time = client[\"arrival_time\"]\n",
    "    prev_service_end = client[\"service_end\"]\n",
    "\n",
    "  df = pd.DataFrame(clients)\n",
    "  df = df.drop(columns=[\"service_end\", \"arrival_time\"])\n",
    "  return df"
   ]
  },
  {
   "cell_type": "code",
   "execution_count": 77,
   "metadata": {},
   "outputs": [],
   "source": [
    "def calculate_stats(df):\n",
    "  # Tiempo de espera promedio por cliente\n",
    "  avg_wait_time = df[\"Tiempo de espera cliente\"].mean()\n",
    "\n",
    "  # Probabilidad de que un cliente espera en la fila\n",
    "  prob_wait = (df[\"Tiempo de espera cliente\"] > 0).mean()\n",
    "\n",
    "  # Porcentaje de tiempo en que el ATM estuvo inactivo\n",
    "  df[\"Termina Servicio\"] = pd.to_datetime(df[\"Termina Servicio\"])\n",
    "  df[\"Hora llegada\"] = pd.to_datetime(df[\"Hora llegada\"])\n",
    "\n",
    "  total_time = (df[\"Termina Servicio\"].max() - df[\"Hora llegada\"].min()).total_seconds() / 60\n",
    "  total_inactive_time = df[\"Tiempo inactividad del ATM\"].sum()\n",
    "  percent_inactive = (total_inactive_time / total_time) * 100\n",
    "\n",
    "  # Tiempo promedio de servicio\n",
    "  avg_service_time = df[\"Tiempo del trámite\"].mean()\n",
    "\n",
    "  return avg_wait_time, prob_wait, percent_inactive, avg_service_time"
   ]
  },
  {
   "cell_type": "code",
   "execution_count": 78,
   "metadata": {},
   "outputs": [],
   "source": [
    "import re \n",
    "def write_report(\n",
    "  df, filename, avg_wait_time, prob_wait, percent_inactive, avg_service_time\n",
    "):\n",
    "  number = re.search(r'\\d+', filename)\n",
    "  report_number = number.group() if number else ''\n",
    "  \n",
    "  with open(filename, 'w') as f:   \n",
    "    f.write(f\"------------------\\n   Reporte {report_number}:\\n------------------\\n\\n\")\n",
    "\n",
    "    f.write(df.to_string(index=False))\n",
    "    f.write('\\n\\n')\n",
    "\n",
    "    f.write(\"--------------------------------------------------\\n\")\n",
    "    f.write(f\"Tiempo de espera promedio por cliente: {avg_wait_time:.2f} minutos\\n\")\n",
    "    f.write(f\"Probabilidad de que un cliente espera en la fila: {prob_wait * 100:.3f}%\\n\")\n",
    "    f.write(f\"Porcentaje de tiempo en que el ATM estuvo inactivo: {percent_inactive:.3f}%\\n\")\n",
    "    f.write(f\"Tiempo promedio de servicio: {avg_service_time:.2f} minutos\\n\")\n",
    "    f.write(\"--------------------------------------------------\\n\")\n",
    "  "
   ]
  },
  {
   "cell_type": "markdown",
   "metadata": {},
   "source": [
    "## Función Principal"
   ]
  },
  {
   "cell_type": "code",
   "execution_count": null,
   "metadata": {},
   "outputs": [],
   "source": [
    "num_clients = 18  # Se cambia por el usuario\n",
    "max_arrival_time = 12  # Se cambia por el usuario\n",
    "max_service_time = 15  # Se cambia por el usuario\n",
    "\n",
    "df = generate_clients(num_clients, max_arrival_time, max_service_time)\n",
    "avg_wait_time, prob_wait, percent_inactive, avg_service_time = calculate_stats(df)\n",
    "\n",
    "# Convert to datetime format and then format as 'HH:MM'\n",
    "df['Hora llegada'] = pd.to_datetime(df['Hora llegada']).dt.strftime('%H:%M')\n",
    "df['Inicia servicio'] = pd.to_datetime(df['Inicia servicio']).dt.strftime('%H:%M')\n",
    "df['Termina Servicio'] = pd.to_datetime(df['Termina Servicio']).dt.strftime('%H:%M')\n",
    "\n",
    "write_report(df, 'report03.txt', avg_wait_time, prob_wait, percent_inactive, avg_service_time)\n"
   ]
  },
  {
   "cell_type": "markdown",
   "metadata": {},
   "source": [
    "### Impresión de los reportes generados"
   ]
  },
  {
   "cell_type": "code",
   "execution_count": 80,
   "metadata": {},
   "outputs": [
    {
     "name": "stdout",
     "output_type": "stream",
     "text": [
      "------------------\n",
      "   Reporte 01:\n",
      "------------------\n",
      "\n",
      " Cliente  Tiempo entre llegadas Hora llegada  Tiempo del trámite Inicia servicio Termina Servicio  Tiempo de espera cliente  Tiempo inactividad del ATM\n",
      "       1                     15        19:48                  11           19:48            19:59                       0.0                        15.0\n",
      "       2                     10        19:58                  10           19:59            20:09                       1.0                         0.0\n",
      "       3                      1        19:59                   9           20:09            20:18                      10.0                         0.0\n",
      "       4                      8        20:07                  10           20:18            20:28                      11.0                         0.0\n",
      "       5                     19        20:26                  10           20:28            20:38                       2.0                         0.0\n",
      "       6                      6        20:32                   4           20:38            20:42                       6.0                         0.0\n",
      "       7                      1        20:33                   5           20:42            20:47                       9.0                         0.0\n",
      "       8                      6        20:39                   5           20:47            20:52                       8.0                         0.0\n",
      "       9                     18        20:57                  10           20:57            21:07                       0.0                         5.0\n",
      "      10                     12        21:09                  10           21:09            21:19                       0.0                         2.0\n",
      "      11                     16        21:25                  12           21:25            21:37                       0.0                         6.0\n",
      "      12                     18        21:43                  10           21:43            21:53                       0.0                         6.0\n",
      "\n",
      "--------------------------------------------------\n",
      "Tiempo de espera promedio por cliente: 3.92 minutos\n",
      "Probabilidad de que un cliente espera en la fila: 58.333%\n",
      "Porcentaje de tiempo en que el ATM estuvo inactivo: 27.200%\n",
      "Tiempo promedio de servicio: 8.83 minutos\n",
      "--------------------------------------------------\n",
      "\n",
      "\n",
      "\n",
      "------------------\n",
      "   Reporte 02:\n",
      "------------------\n",
      "\n",
      " Cliente  Tiempo entre llegadas Hora llegada  Tiempo del trámite Inicia servicio Termina Servicio  Tiempo de espera cliente  Tiempo inactividad del ATM\n",
      "       1                     10        19:43                   9           19:43            19:52                       0.0                        10.0\n",
      "       2                      8        19:51                   1           19:52            19:53                       1.0                         0.0\n",
      "       3                      2        19:53                   7           19:53            20:00                       0.0                         0.0\n",
      "       4                      4        19:57                   6           20:00            20:06                       3.0                         0.0\n",
      "       5                      6        20:03                   1           20:06            20:07                       3.0                         0.0\n",
      "       6                      9        20:12                   6           20:12            20:18                       0.0                         5.0\n",
      "       7                      8        20:20                   6           20:20            20:26                       0.0                         2.0\n",
      "       8                      4        20:24                   8           20:26            20:34                       2.0                         0.0\n",
      "       9                      9        20:33                   7           20:34            20:41                       1.0                         0.0\n",
      "      10                      1        20:34                   6           20:41            20:47                       7.0                         0.0\n",
      "      11                      7        20:41                   9           20:47            20:56                       6.0                         0.0\n",
      "      12                      4        20:45                   8           20:56            21:04                      11.0                         0.0\n",
      "      13                      6        20:51                   4           21:04            21:08                      13.0                         0.0\n",
      "      14                     10        21:01                   1           21:08            21:09                       7.0                         0.0\n",
      "      15                      9        21:10                   2           21:10            21:12                       0.0                         1.0\n",
      "      16                      4        21:14                   3           21:14            21:17                       0.0                         2.0\n",
      "      17                      7        21:21                   2           21:21            21:23                       0.0                         4.0\n",
      "      18                      1        21:22                   3           21:23            21:26                       1.0                         0.0\n",
      "      19                      5        21:27                   7           21:27            21:34                       0.0                         1.0\n",
      "      20                      1        21:28                   7           21:34            21:41                       6.0                         0.0\n",
      "      21                      3        21:31                   5           21:41            21:46                      10.0                         0.0\n",
      "      22                      9        21:40                   3           21:46            21:49                       6.0                         0.0\n",
      "      23                      1        21:41                   3           21:49            21:52                       8.0                         0.0\n",
      "      24                      1        21:42                   9           21:52            22:01                      10.0                         0.0\n",
      "      25                      5        21:47                   5           22:01            22:06                      14.0                         0.0\n",
      "      26                      9        21:56                   2           22:06            22:08                      10.0                         0.0\n",
      "      27                      2        21:58                   3           22:08            22:11                      10.0                         0.0\n",
      "      28                      4        22:02                   2           22:11            22:13                       9.0                         0.0\n",
      "      29                      7        22:09                   1           22:13            22:14                       4.0                         0.0\n",
      "      30                      9        22:18                   6           22:18            22:24                       0.0                         4.0\n",
      "\n",
      "--------------------------------------------------\n",
      "Tiempo de espera promedio por cliente: 4.73 minutos\n",
      "Probabilidad de que un cliente espera en la fila: 70.000%\n",
      "Porcentaje de tiempo en que el ATM estuvo inactivo: 18.012%\n",
      "Tiempo promedio de servicio: 4.73 minutos\n",
      "--------------------------------------------------\n",
      "\n",
      "\n",
      "\n",
      "------------------\n",
      "   Reporte 03:\n",
      "------------------\n",
      "\n",
      " Cliente  Tiempo entre llegadas Hora llegada  Tiempo del trámite Inicia servicio Termina Servicio  Tiempo de espera cliente  Tiempo inactividad del ATM\n",
      "       1                      5        19:39                  10           19:39            19:49                       0.0                         5.0\n",
      "       2                      3        19:42                   1           19:49            19:50                       7.0                         0.0\n",
      "       3                     10        19:52                   1           19:52            19:53                       0.0                         2.0\n",
      "       4                      4        19:56                  11           19:56            20:07                       0.0                         3.0\n",
      "       5                      6        20:02                   1           20:07            20:08                       5.0                         0.0\n",
      "       6                      1        20:03                  13           20:08            20:21                       5.0                         0.0\n",
      "       7                      1        20:04                  13           20:21            20:34                      17.0                         0.0\n",
      "       8                      2        20:06                   7           20:34            20:41                      28.0                         0.0\n",
      "       9                      7        20:13                   3           20:41            20:44                      28.0                         0.0\n",
      "      10                      7        20:20                   1           20:44            20:45                      24.0                         0.0\n",
      "      11                     12        20:32                   6           20:45            20:51                      13.0                         0.0\n",
      "      12                      6        20:38                   3           20:51            20:54                      13.0                         0.0\n",
      "      13                      7        20:45                   3           20:54            20:57                       9.0                         0.0\n",
      "      14                     10        20:55                   7           20:57            21:04                       2.0                         0.0\n",
      "      15                      3        20:58                   7           21:04            21:11                       6.0                         0.0\n",
      "      16                      5        21:03                   5           21:11            21:16                       8.0                         0.0\n",
      "      17                      1        21:04                  15           21:16            21:31                      12.0                         0.0\n",
      "      18                      2        21:06                  14           21:31            21:45                      25.0                         0.0\n",
      "\n",
      "--------------------------------------------------\n",
      "Tiempo de espera promedio por cliente: 11.22 minutos\n",
      "Probabilidad de que un cliente espera en la fila: 83.333%\n",
      "Porcentaje de tiempo en que el ATM estuvo inactivo: 7.937%\n",
      "Tiempo promedio de servicio: 6.72 minutos\n",
      "--------------------------------------------------\n",
      "\n",
      "\n",
      "\n"
     ]
    }
   ],
   "source": [
    "for i in range(1, 4):\n",
    "    with open(f\"report0{i}.txt\", \"r\") as file:\n",
    "        for line in file:\n",
    "            print(line, end=\"\")\n",
    "        print(\"\\n\\n\")"
   ]
  }
 ],
 "metadata": {
  "kernelspec": {
   "display_name": "Python 3",
   "language": "python",
   "name": "python3"
  },
  "language_info": {
   "codemirror_mode": {
    "name": "ipython",
    "version": 3
   },
   "file_extension": ".py",
   "mimetype": "text/x-python",
   "name": "python",
   "nbconvert_exporter": "python",
   "pygments_lexer": "ipython3",
   "version": "3.11.9"
  }
 },
 "nbformat": 4,
 "nbformat_minor": 2
}
